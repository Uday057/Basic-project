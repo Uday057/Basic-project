{
  "nbformat": 4,
  "nbformat_minor": 0,
  "metadata": {
    "colab": {
      "provenance": [],
      "authorship_tag": "ABX9TyPW6R23mcJOUoNuvoCAeZ1M",
      "include_colab_link": true
    },
    "kernelspec": {
      "name": "python3",
      "display_name": "Python 3"
    },
    "language_info": {
      "name": "python"
    }
  },
  "cells": [
    {
      "cell_type": "markdown",
      "metadata": {
        "id": "view-in-github",
        "colab_type": "text"
      },
      "source": [
        "<a href=\"https://colab.research.google.com/github/Uday057/Basic-project/blob/main/Password%20Generator.ipynb\" target=\"_parent\"><img src=\"https://colab.research.google.com/assets/colab-badge.svg\" alt=\"Open In Colab\"/></a>"
      ]
    },
    {
      "cell_type": "code",
      "execution_count": 4,
      "metadata": {
        "colab": {
          "base_uri": "https://localhost:8080/"
        },
        "id": "ffZ9nD5TpyUj",
        "outputId": "209a2675-85c3-493a-ab7b-4683f0e204b9"
      },
      "outputs": [
        {
          "output_type": "stream",
          "name": "stdout",
          "text": [
            "How many passwords do you want to generate? 10\n",
            "Generating 10 passwords\n",
            "Minimum length of password should be 3\n",
            "Enter the length of Password #1: 3\n",
            "Enter the length of Password #2: 2\n",
            "Enter the length of Password #3: 3\n",
            "Enter the length of Password #4: 2\n",
            "Enter the length of Password #5: 6\n",
            "Enter the length of Password #6: 5\n",
            "Enter the length of Password #7: 3\n",
            "Enter the length of Password #8: 4\n",
            "Enter the length of Password #9: 2\n",
            "Enter the length of Password #10: 3\n",
            "Password #1 = 6mM\n",
            "Password #2 = 2tB\n",
            "Password #3 = 6Bx\n",
            "Password #4 = 1Zn\n",
            "Password #5 = 12wjoV\n",
            "Password #6 = 06lKg\n",
            "Password #7 = 3Pd\n",
            "Password #8 = 0lVH\n",
            "Password #9 = 5Bj\n",
            "Password #10 = 1ZV\n"
          ]
        }
      ],
      "source": [
        "import random\n",
        "\n",
        "def generate_password(pw_length):\n",
        "    alphabet = \"abcdefghijklmnopqrstuvwxyz\"\n",
        "    passwords = []\n",
        "\n",
        "    for length in pw_length:\n",
        "        password = \"\"\n",
        "        for _ in range(length):\n",
        "            next_letter_index = random.randrange(len(alphabet))\n",
        "            password += alphabet[next_letter_index]\n",
        "\n",
        "        password = replace_with_number(password)\n",
        "        password = replace_with_uppercase_letter(password)\n",
        "\n",
        "        passwords.append(password)\n",
        "\n",
        "    return passwords\n",
        "\n",
        "\n",
        "def replace_with_number(password):\n",
        "    for _ in range(random.randrange(1, 3)):\n",
        "        replace_index = random.randrange(len(password)//2)\n",
        "        password = password[:replace_index] + str(random.randrange(10)) + password[replace_index+1:]\n",
        "    return password\n",
        "\n",
        "\n",
        "def replace_with_uppercase_letter(password):\n",
        "    for _ in range(random.randrange(1, 3)):\n",
        "        replace_index = random.randrange(len(password)//2, len(password))\n",
        "        password = password[:replace_index] + password[replace_index].upper() + password[replace_index+1:]\n",
        "    return password\n",
        "\n",
        "\n",
        "def main():\n",
        "    num_passwords = int(input(\"How many passwords do you want to generate? \"))\n",
        "    print(\"Generating {} passwords\".format(num_passwords))\n",
        "\n",
        "    password_lengths = []\n",
        "\n",
        "    print(\"Minimum length of password should be 3\")\n",
        "\n",
        "    for i in range(num_passwords):\n",
        "        length = int(input(\"Enter the length of Password #{}: \".format(i+1)))\n",
        "        if length < 3:\n",
        "            length = 3\n",
        "        password_lengths.append(length)\n",
        "\n",
        "    passwords = generate_password(password_lengths)\n",
        "\n",
        "    for i, password in enumerate(passwords):\n",
        "        print(\"Password #{} = {}\".format(i+1, password))\n",
        "\n",
        "main()\n"
      ]
    }
  ]
}