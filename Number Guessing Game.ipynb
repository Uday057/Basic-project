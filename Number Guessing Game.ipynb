{
  "nbformat": 4,
  "nbformat_minor": 0,
  "metadata": {
    "colab": {
      "provenance": [],
      "authorship_tag": "ABX9TyOTO+Lw9EDY2EOe09CJeowt",
      "include_colab_link": true
    },
    "kernelspec": {
      "name": "python3",
      "display_name": "Python 3"
    },
    "language_info": {
      "name": "python"
    }
  },
  "cells": [
    {
      "cell_type": "markdown",
      "metadata": {
        "id": "view-in-github",
        "colab_type": "text"
      },
      "source": [
        "<a href=\"https://colab.research.google.com/github/Uday057/Basic-project/blob/main/Number%20Guessing%20Game.ipynb\" target=\"_parent\"><img src=\"https://colab.research.google.com/assets/colab-badge.svg\" alt=\"Open In Colab\"/></a>"
      ]
    },
    {
      "cell_type": "code",
      "execution_count": 3,
      "metadata": {
        "colab": {
          "base_uri": "https://localhost:8080/"
        },
        "id": "ffZ9nD5TpyUj",
        "outputId": "cf4ed7f4-bd2c-48d4-efef-261c695fa834"
      },
      "outputs": [
        {
          "name": "stdout",
          "output_type": "stream",
          "text": [
            "May I ask you for your name?\n",
            "Uday\n",
            "Uday, we are going to play a game. I am thinking of a number between 1 and 200\n",
            "Go ahead. Guess!\n",
            "Guess: 150\n",
            "The guess is too high\n",
            "Guess: 120\n",
            "The guess is too high\n",
            "Guess: 100\n",
            "The guess is too high\n",
            "Guess: 99\n",
            "The guess is too high\n",
            "Guess: 95\n",
            "Congratulations! You guessed it right in 5 guesses!\n",
            "Do you want to play again? (yes/no): yes\n",
            "May I ask you for your name?\n",
            "Uday\n",
            "Uday, we are going to play a game. I am thinking of a number between 1 and 200\n",
            "Go ahead. Guess!\n",
            "Guess: 200\n",
            "The guess is too high\n",
            "Guess: 150\n",
            "The guess is too high\n",
            "Guess: 140\n",
            "The guess is too high\n",
            "Guess: 120\n",
            "The guess is too low\n",
            "Guess: 130\n",
            "The guess is too high\n",
            "Guess: 125\n",
            "The guess is too low\n",
            "Sorry, you ran out of guesses. The number was 127\n",
            "Do you want to play again? (yes/no): no\n"
          ]
        }
      ],
      "source": [
        "import random\n",
        "import time\n",
        "\n",
        "def intro():\n",
        "    print(\"May I ask you for your name?\")\n",
        "    name = input()\n",
        "    print(name + \", we are going to play a game. I am thinking of a number between 1 and 200\")\n",
        "    time.sleep(0.5)\n",
        "    print(\"Go ahead. Guess!\")\n",
        "\n",
        "def pick():\n",
        "    number = random.randint(1, 200)\n",
        "    guesses_taken = 0\n",
        "\n",
        "    while guesses_taken < 6:\n",
        "        time.sleep(0.25)\n",
        "        enter = input(\"Guess: \")\n",
        "\n",
        "        try:\n",
        "            guess = int(enter)\n",
        "\n",
        "            if 1 <= guess <= 200:\n",
        "                guesses_taken += 1\n",
        "                if guess < number:\n",
        "                    print(\"The guess is too low\")\n",
        "                elif guess > number:\n",
        "                    print(\"The guess is too high\")\n",
        "                else:\n",
        "                    print(\"Congratulations! You guessed it right in \" + str(guesses_taken) + \" guesses!\")\n",
        "                    return\n",
        "            else:\n",
        "                print(\"Please enter a number between 1 and 200\")\n",
        "        except ValueError:\n",
        "            print(\"Invalid input. Please enter a number.\")\n",
        "\n",
        "    print(\"Sorry, you ran out of guesses. The number was\", number)\n",
        "\n",
        "def play_game():\n",
        "    play_again = \"yes\"\n",
        "    while play_again.lower() in [\"yes\", \"y\"]:\n",
        "        intro()\n",
        "        pick()\n",
        "        play_again = input(\"Do you want to play again? (yes/no): \")\n",
        "\n",
        "play_game()\n"
      ]
    }
  ]
}